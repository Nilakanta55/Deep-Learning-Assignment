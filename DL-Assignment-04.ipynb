{
 "cells": [
  {
   "cell_type": "markdown",
   "id": "133227e6",
   "metadata": {},
   "source": [
    "### 1.\tHow would you describe TensorFlow in a short sentence? What are its main features? Can you name other popular Deep Learning libraries?\n"
   ]
  },
  {
   "cell_type": "markdown",
   "id": "0b9cf4ca",
   "metadata": {},
   "source": [
    "Tensorflow is an open-source library for numerical computation and large-scale machine learning that ease Google Brain TensorFlow, the process of acquiring data, training models, serving predictions, and refining future results. Tensorflow bundles together Machine Learning and Deep Learning models and algorithms. TensorFlow is mainly used for: Classification, Perception, Understanding, Discovering, Prediction and Creation.\n",
    "\n",
    "* Features of TensorFlow\n",
    "1. Easy to run. \n",
    "2. Fast Debugging. \n",
    "3. Effective. \n",
    "4. Scalable. \n",
    "5. Easy Experimentation.\n",
    "6. Abstraction.\n",
    "7. Flexibility.\n",
    "\n",
    "* popular Deep Learning libraries\n",
    "1. Numpy\n",
    "2. Scipy\n",
    "3. Scikit-learn\n",
    "4. Theano\n",
    "5. TensorFlow\n",
    "6. Keras\n",
    "7. PyTorch\n",
    "8. Pandas\n",
    "9. Matplotlib\n"
   ]
  },
  {
   "cell_type": "code",
   "execution_count": null,
   "id": "ff44c2be",
   "metadata": {},
   "outputs": [],
   "source": []
  },
  {
   "cell_type": "markdown",
   "id": "a12203b0",
   "metadata": {},
   "source": [
    "### 2.\tIs TensorFlow a drop-in replacement for NumPy? What are the main differences between the two?\n"
   ]
  },
  {
   "cell_type": "markdown",
   "id": "ad8a1ea7",
   "metadata": {},
   "source": [
    "Sure, it could but it probably won’t.\n",
    "\n",
    "Keep in mind that NumPy is the foundation for other libraries.\n",
    "\n",
    "Pandas data objects sit on top of NumPy arrays.\n",
    "\n",
    "TensorFlow has become the gold standard in the applied space though.\n",
    "\n",
    "With the advent of TF 2.0 with Keras and Eager Execution, it’s the best platform out there for deep learning."
   ]
  },
  {
   "cell_type": "markdown",
   "id": "3d922915",
   "metadata": {},
   "source": [
    "Numpy is a linear algebra library for python, and one of the most important and popular libraries in Data Science. TensorFlow is a reimplementation of the Numpy API and can be accessed as tf. Last but not least, TensorFlow is sensitive highly about datatypes used. They cannot be implicitly mixed.\n",
    "\n",
    "Two such libraries worth mentioning are NumPy (one of the pioneer libraries to bring efficient numerical computation to Python) and TensorFlow (a more recently rolled-out library focused more on deep learning algorithms)."
   ]
  },
  {
   "cell_type": "code",
   "execution_count": null,
   "id": "986aa799",
   "metadata": {},
   "outputs": [],
   "source": []
  },
  {
   "cell_type": "markdown",
   "id": "64d79806",
   "metadata": {},
   "source": [
    "### 3.\tDo you get the same result with tf.range(10) and tf.constant(np.arange(10))?\n"
   ]
  },
  {
   "cell_type": "markdown",
   "id": "0ffc551c",
   "metadata": {},
   "source": [
    "yes, both tf.range(10) and tf.constant(np.arange(10)) will give same results."
   ]
  },
  {
   "cell_type": "code",
   "execution_count": null,
   "id": "f988469f",
   "metadata": {},
   "outputs": [],
   "source": []
  },
  {
   "cell_type": "markdown",
   "id": "8fce9564",
   "metadata": {},
   "source": [
    "### 4.\tCan you name six other data structures available in TensorFlow, beyond regular tensors?\n"
   ]
  },
  {
   "cell_type": "markdown",
   "id": "bc085ad6",
   "metadata": {},
   "source": [
    "### 5.\tA custom loss function can be defined by writing a function or by subclassing the keras.losses.Loss class. When would you use each option?\n"
   ]
  },
  {
   "cell_type": "markdown",
   "id": "85f20bbe",
   "metadata": {},
   "source": [
    "The purpose of loss functions is to compute the quantity that a model should seek to minimize during training.\n",
    "\n",
    "A custom loss function can be created by defining a function that takes the true values and predicted values as required parameters. The function should return an array of losses. The function can then be passed at the compile stage."
   ]
  },
  {
   "cell_type": "code",
   "execution_count": null,
   "id": "4dde3332",
   "metadata": {},
   "outputs": [],
   "source": []
  },
  {
   "cell_type": "markdown",
   "id": "e631e635",
   "metadata": {},
   "source": [
    "### 6.\tSimilarly, a custom metric can be defined in a function or a subclass of keras.metrics.Metric. When would you use each option?\n"
   ]
  },
  {
   "cell_type": "markdown",
   "id": "fa349028",
   "metadata": {},
   "source": [
    "A metric is a function that is used to judge the performance of your model.\n",
    "\n",
    "Metric functions are similar to loss functions, except that the results from evaluating a metric are not used when training the model. Note that you may use any loss function as a metric.\n",
    "\n",
    "A metric is a function that is used to judge the performance of your model. Metric functions are similar to loss functions, except that the results from evaluating a metric are not used when training the model. Note that you may use any loss function as a metric."
   ]
  },
  {
   "cell_type": "code",
   "execution_count": null,
   "id": "0198f01f",
   "metadata": {},
   "outputs": [],
   "source": []
  },
  {
   "cell_type": "markdown",
   "id": "6950b15f",
   "metadata": {},
   "source": [
    "### 7.\tWhen should you create a custom layer versus a custom model?"
   ]
  },
  {
   "cell_type": "markdown",
   "id": "d4b1e9c2",
   "metadata": {},
   "source": [
    "* Implementing custom layers\n",
    "\n",
    "The best way to implement your own layer is extending the tf.keras.Layer class and implementing:\n",
    "\n",
    "1. __init__ , where you can do all input-independent initialization\n",
    "\n",
    "2. build, where you know the shapes of the input tensors and can do the rest of the initialization\n",
    "\n",
    "3. call, where you do the forward computation\n",
    "\n",
    "Note that you don't have to wait until build is called to create your variables, you can also create them in __init__. However, the advantage of creating them in build is that it enables late variable creation based on the shape of the inputs the layer will operate on. On the other hand, creating variables in __init__ would mean that shapes required to create the variables will need to be explicitly specified."
   ]
  },
  {
   "cell_type": "markdown",
   "id": "02d7b613",
   "metadata": {},
   "source": [
    "* There are two ways to instantiate a custom Model:\n",
    "\n",
    "1 - With the \"Functional API\", where you start from Input, you chain layer calls to specify the model's forward pass, and finally you create your model from inputs and outputs. A new Functional API model can also be created by using the intermediate tensors. This enables you to quickly extract sub-components of the model. Note that the backbone and activations models are not created with keras.Input objects, but with the tensors that are originated from keras.Inputs objects. Under the hood, the layers and weights will be shared across these models, so that user can train the full_model, and use backbone or activations to do feature extraction. The inputs and outputs of the model can be nested structures of tensors as well, and the created models are standard Functional API models that support all the existing APIs.\n",
    "\n",
    "2 - By subclassing the Model class: in that case, you should define your layers in __init__() and you should implement the model's forward pass in call(). If you subclass Model, you can optionally have a training argument (boolean) in call(), which you can use to specify a different behavior in training and inference Once the model is created, you can config the model with losses and metrics with model.compile(), train the model with model.fit(), or use the model to do prediction with model.predict()."
   ]
  },
  {
   "cell_type": "code",
   "execution_count": null,
   "id": "e8f77f4a",
   "metadata": {},
   "outputs": [],
   "source": []
  },
  {
   "cell_type": "markdown",
   "id": "092ed0a0",
   "metadata": {},
   "source": [
    "### 8.\tWhat are some use cases that require writing your own custom training loop?\n"
   ]
  },
  {
   "cell_type": "markdown",
   "id": "d95e3831",
   "metadata": {},
   "source": [
    "The training loop consists of repeatedly doing three tasks in order:\n",
    "\n",
    "1. Sending a batch of inputs through the model to generate outputs\n",
    "2. Calculating the loss by comparing the outputs to the output (or label)\n",
    "3. Using gradient tape to find the gradients\n",
    "4. Optimizing the variables with those gradients\n",
    "For this example, you can train the model using gradient descent.\n",
    "\n",
    "There are many variants of the gradient descent scheme that are captured in tf.keras.optimizers. But in the spirit of building from first principles, here you will implement the basic math yourself with the help of tf.GradientTape for automatic differentiation and tf.assign_sub for decrementing a value (which combines tf.assign and tf.sub):"
   ]
  },
  {
   "cell_type": "code",
   "execution_count": null,
   "id": "adc7a55a",
   "metadata": {},
   "outputs": [],
   "source": []
  },
  {
   "cell_type": "markdown",
   "id": "72f73f45",
   "metadata": {},
   "source": [
    "### 9.\tCan custom Keras components contain arbitrary Python code, or must they be convertible to TF Functions?\n"
   ]
  },
  {
   "cell_type": "markdown",
   "id": "8372a2e5",
   "metadata": {},
   "source": [
    "Yes, they must be convertible to TF Functions"
   ]
  },
  {
   "cell_type": "code",
   "execution_count": null,
   "id": "f8d30bbe",
   "metadata": {},
   "outputs": [],
   "source": []
  },
  {
   "cell_type": "markdown",
   "id": "4feaa923",
   "metadata": {},
   "source": [
    "### 10.\tWhat are the main rules to respect if you want a function to be convertible to a TF Function?\n"
   ]
  },
  {
   "cell_type": "markdown",
   "id": "0c33548e",
   "metadata": {},
   "source": [
    "tf.function is a decorator function provided by Tensorflow 2.0 that converts regular python code to a callable Tensorflow graph function, which is usually more performant and python independent. It is used to create portable Tensorflow models.\n",
    "\n",
    " tf.function can significantly reduce the code run time"
   ]
  },
  {
   "cell_type": "code",
   "execution_count": null,
   "id": "adeb83b0",
   "metadata": {},
   "outputs": [],
   "source": []
  },
  {
   "cell_type": "markdown",
   "id": "bd82d6e8",
   "metadata": {},
   "source": [
    "### 11.\tWhen would you need to create a dynamic Keras model? How do you do that? Why not make all your models dynamic?\n",
    "\n"
   ]
  },
  {
   "cell_type": "markdown",
   "id": "e1d99c36",
   "metadata": {},
   "source": [
    " * Making a Keras layer dynamic for Tensorflow operations(Tensorflow object detection API)\n",
    "\n",
    "    1. What is the top-level directory of the model you are using:N/A\n",
    "\n",
    "    2. Have I written custom code (as opposed to using a stock example script provided in TensorFlow): Yes\n",
    "\n",
    "    3. OS Platform and Distribution (e.g., Linux Ubuntu 16.04):Arch Linux\n",
    "\n",
    "    4. TensorFlow installed from (source or binary):source\n",
    "\n",
    "    5. TensorFlow version (use command below):1.13.1\n",
    "\n",
    "    6. Bazel version (if compiling from source):N/A\n",
    "    \n",
    "    7. CUDA/cuDNN version:10.0.130\n",
    "\n",
    "    8. GPU model and memory:Nvidia GTX 1070\n",
    "\n",
    "    9. Exact command to reproduce:"
   ]
  },
  {
   "cell_type": "code",
   "execution_count": null,
   "id": "9387563a",
   "metadata": {},
   "outputs": [],
   "source": []
  }
 ],
 "metadata": {
  "kernelspec": {
   "display_name": "Python 3",
   "language": "python",
   "name": "python3"
  },
  "language_info": {
   "codemirror_mode": {
    "name": "ipython",
    "version": 3
   },
   "file_extension": ".py",
   "mimetype": "text/x-python",
   "name": "python",
   "nbconvert_exporter": "python",
   "pygments_lexer": "ipython3",
   "version": "3.8.8"
  }
 },
 "nbformat": 4,
 "nbformat_minor": 5
}
