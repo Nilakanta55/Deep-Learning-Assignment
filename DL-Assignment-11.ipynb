{
 "cells": [
  {
   "cell_type": "markdown",
   "id": "133227e6",
   "metadata": {},
   "source": [
    "### 1.\tWrite the Python code to implement a single neuron.\n"
   ]
  },
  {
   "cell_type": "code",
   "execution_count": 1,
   "id": "de20d21e",
   "metadata": {},
   "outputs": [
    {
     "name": "stdout",
     "output_type": "stream",
     "text": [
      "Random weights at the start of training\n",
      "[[-0.16595599]\n",
      " [ 0.44064899]\n",
      " [-0.99977125]]\n",
      "New weights after training\n",
      "[[5.39428067]\n",
      " [0.19482422]\n",
      " [0.34317086]]\n",
      "Testing network on new examples ->\n",
      "[0.99995873]\n"
     ]
    }
   ],
   "source": [
    "# Python program to implement a\n",
    "# single neuron neural network\n",
    "\n",
    "# import all necessary libraries\n",
    "from numpy import exp, array, random, dot, tanh\n",
    "\n",
    "# Class to create a neural\n",
    "# network with single neuron\n",
    "class NeuralNetwork():\n",
    "\t\n",
    "\tdef __init__(self):\n",
    "\t\t\n",
    "\t\t# Using seed to make sure it'll\n",
    "\t\t# generate same weights in every run\n",
    "\t\trandom.seed(1)\n",
    "\t\t\n",
    "\t\t# 3x1 Weight matrix\n",
    "\t\tself.weight_matrix = 2 * random.random((3, 1)) - 1\n",
    "\n",
    "\t# tanh as activation function\n",
    "\tdef tanh(self, x):\n",
    "\t\treturn tanh(x)\n",
    "\n",
    "\t# derivative of tanh function.\n",
    "\t# Needed to calculate the gradients.\n",
    "\tdef tanh_derivative(self, x):\n",
    "\t\treturn 1.0 - tanh(x) ** 2\n",
    "\n",
    "\t# forward propagation\n",
    "\tdef forward_propagation(self, inputs):\n",
    "\t\treturn self.tanh(dot(inputs, self.weight_matrix))\n",
    "\t\n",
    "\t# training the neural network.\n",
    "\tdef train(self, train_inputs, train_outputs,\n",
    "\t\t\t\t\t\t\tnum_train_iterations):\n",
    "\t\t\t\t\t\t\t\t\n",
    "\t\t# Number of iterations we want to\n",
    "\t\t# perform for this set of input.\n",
    "\t\tfor iteration in range(num_train_iterations):\n",
    "\t\t\toutput = self.forward_propagation(train_inputs)\n",
    "\n",
    "\t\t\t# Calculate the error in the output.\n",
    "\t\t\terror = train_outputs - output\n",
    "\n",
    "\t\t\t# multiply the error by input and then\n",
    "\t\t\t# by gradient of tanh function to calculate\n",
    "\t\t\t# the adjustment needs to be made in weights\n",
    "\t\t\tadjustment = dot(train_inputs.T, error *\n",
    "\t\t\t\t\t\t\tself.tanh_derivative(output))\n",
    "\t\t\t\t\t\t\t\n",
    "\t\t\t# Adjust the weight matrix\n",
    "\t\t\tself.weight_matrix += adjustment\n",
    "\n",
    "# Driver Code\n",
    "if __name__ == \"__main__\":\n",
    "\t\n",
    "\tneural_network = NeuralNetwork()\n",
    "\t\n",
    "\tprint ('Random weights at the start of training')\n",
    "\tprint (neural_network.weight_matrix)\n",
    "\n",
    "\ttrain_inputs = array([[0, 0, 1], [1, 1, 1], [1, 0, 1], [0, 1, 1]])\n",
    "\ttrain_outputs = array([[0, 1, 1, 0]]).T\n",
    "\n",
    "\tneural_network.train(train_inputs, train_outputs, 10000)\n",
    "\n",
    "\tprint ('New weights after training')\n",
    "\tprint (neural_network.weight_matrix)\n",
    "\n",
    "\t# Test the neural network with a new situation.\n",
    "\tprint (\"Testing network on new examples ->\")\n",
    "\tprint (neural_network.forward_propagation(array([1, 0, 0])))\n"
   ]
  },
  {
   "cell_type": "code",
   "execution_count": null,
   "id": "5289cc50",
   "metadata": {},
   "outputs": [],
   "source": []
  },
  {
   "cell_type": "markdown",
   "id": "a12203b0",
   "metadata": {},
   "source": [
    "### 2.\tWrite the Python code to implement ReLU.\n"
   ]
  },
  {
   "cell_type": "code",
   "execution_count": 3,
   "id": "0186b702",
   "metadata": {},
   "outputs": [
    {
     "data": {
      "text/plain": [
       "array([[0.        , 0.18932873],\n",
       "       [0.        , 0.25586596],\n",
       "       [0.22358098, 0.02217555]])"
      ]
     },
     "execution_count": 3,
     "metadata": {},
     "output_type": "execute_result"
    }
   ],
   "source": [
    "import numpy as np\n",
    "\n",
    "x = np.random.random((3, 2)) - 0.5\n",
    "\n",
    "x\n",
    "\n",
    "array([[-0.00590765,  0.18932873],\n",
    "\n",
    "       [-0.32396051,  0.25586596],\n",
    "\n",
    "       [ 0.22358098,  0.02217555]])\n",
    "\n",
    "np.maximum(x, 0)\n",
    "\n",
    "array([[ 0.        , 0.18932873],\n",
    "\n",
    "       [ 0.        , 0.25586596],\n",
    "\n",
    "       [ 0.22358098,  0.02217555]])\n",
    "\n",
    "x * (x > 0)\n",
    "\n",
    "array([[-0.        , 0.18932873],\n",
    "\n",
    "       [-0.        , 0.25586596],\n",
    "\n",
    "       [ 0.22358098,  0.02217555]])\n",
    "\n",
    "(abs(x) + x) / 2\n",
    "\n",
    "array([[ 0.        , 0.18932873],\n",
    "\n",
    "       [ 0.        , 0.25586596],\n",
    "\n",
    "       [ 0.22358098,  0.02217555]])"
   ]
  },
  {
   "cell_type": "code",
   "execution_count": 4,
   "id": "14f22bb1",
   "metadata": {},
   "outputs": [
    {
     "name": "stdout",
     "output_type": "stream",
     "text": [
      "max method:\n",
      "573 ms ± 14.1 ms per loop (mean ± std. dev. of 7 runs, 10 loops each)\n",
      "multiplication method:\n",
      "340 ms ± 7.15 ms per loop (mean ± std. dev. of 7 runs, 10 loops each)\n",
      "abs method:\n",
      "670 ms ± 49.9 ms per loop (mean ± std. dev. of 7 runs, 10 loops each)\n"
     ]
    }
   ],
   "source": [
    "import numpy as np\n",
    "\n",
    "x = np.random.random((5000, 5000)) - 0.5\n",
    "\n",
    "print(\"max method:\")\n",
    "\n",
    "%timeit -n10 np.maximum(x, 0)\n",
    "\n",
    "print(\"multiplication method:\")\n",
    "\n",
    "%timeit -n10 x * (x > 0)\n",
    "\n",
    "print(\"abs method:\")\n",
    "\n",
    "%timeit -n10 (abs(x) + x) / 2"
   ]
  },
  {
   "cell_type": "code",
   "execution_count": null,
   "id": "defec21e",
   "metadata": {},
   "outputs": [],
   "source": []
  },
  {
   "cell_type": "markdown",
   "id": "64d79806",
   "metadata": {},
   "source": [
    "### 3.\tWrite the Python code for a dense layer in terms of matrix multiplication.\n"
   ]
  },
  {
   "cell_type": "code",
   "execution_count": null,
   "id": "f0ed4493",
   "metadata": {},
   "outputs": [],
   "source": [
    "from keras.models import Sequential\n",
    "from keras.layers import Dense\n",
    "import numpy as np\n",
    "\n",
    "\n",
    "X = np.array([[0,0],\n",
    "              [1,0],\n",
    "              [0,1],\n",
    "              [1,1]])\n",
    "Y = np.array([0,1,1,0])\n",
    "\n",
    "model = Sequential()\n",
    "model.add(Dense(10, input_dim=2, activation='sigmoid'))\n",
    "model.add(Dense(10, activation='sigmoid'))\n",
    "model.add(Dense(1, activation='sigmoid'))\n",
    "\n",
    "model.compile(loss='binary_crossentropy', optimizer='sgd', metrics=['accuracy'])\n",
    "model.fit(X, Y, epochs=100000, batch_size=4, verbose=0)\n",
    "\n",
    "print (model.get_weights())\n",
    "print (model.predict(X))"
   ]
  },
  {
   "cell_type": "code",
   "execution_count": null,
   "id": "502dd66b",
   "metadata": {},
   "outputs": [],
   "source": []
  },
  {
   "cell_type": "markdown",
   "id": "8fce9564",
   "metadata": {},
   "source": [
    "### 4.\tWrite the Python code for a dense layer in plain Python (that is, with list comprehensions and functionality built into Python).\n"
   ]
  },
  {
   "cell_type": "code",
   "execution_count": null,
   "id": "c8e99a61",
   "metadata": {},
   "outputs": [],
   "source": [
    "import numpy as np\n",
    "    from keras.models import Sequential\n",
    "    from keras.layers.core import Dense, Activation\n",
    "\n",
    "    # X has shape (num_rows, num_cols), where the training data are stored\n",
    "    # as row vectors\n",
    "    X = np.array([[0, 0], [0, 1], [1, 0], [1, 1]], dtype=np.float32)\n",
    "\n",
    "    # y must have an output vector for each input vector\n",
    "    y = np.array([[0], [0], [0], [1]], dtype=np.float32)\n",
    "\n",
    "    # Create the Sequential model\n",
    "    model = Sequential()\n",
    "\n",
    "    # 1st Layer - Add an input layer of 32 nodes with the same input shape as\n",
    "    # the training samples in X\n",
    "    model.add(Dense(32, input_dim=X.shape[1]))\n",
    "\n",
    "    # Add a softmax activation layer\n",
    "    model.add(Activation('softmax'))\n",
    "\n",
    "    # 2nd Layer - Add a fully connected output layer\n",
    "    model.add(Dense(1))\n",
    "\n",
    "    # Add a sigmoid activation layer\n",
    "    model.add(Activation('sigmoid'))"
   ]
  },
  {
   "cell_type": "code",
   "execution_count": null,
   "id": "c00eae9b",
   "metadata": {},
   "outputs": [],
   "source": []
  },
  {
   "cell_type": "markdown",
   "id": "bc085ad6",
   "metadata": {},
   "source": [
    "### 5.\tWhat is the “hidden size” of a layer?\n"
   ]
  },
  {
   "attachments": {
    "image.png": {
     "image/png": "[encoded data removed]"
    }
   },
   "cell_type": "markdown",
   "id": "5e546c14",
   "metadata": {},
   "source": [
    "Hidden size is number of features of the hidden state for RNN. So if you increase hidden size then you compute bigger feature as hidden state output. However, num_layers is just multiple RNN units which contain hidden states with given hidden size.\n",
    "![image.png](attachment:image.png)"
   ]
  },
  {
   "cell_type": "code",
   "execution_count": null,
   "id": "1047bbc1",
   "metadata": {},
   "outputs": [],
   "source": []
  },
  {
   "cell_type": "markdown",
   "id": "e631e635",
   "metadata": {},
   "source": [
    "### 6.\tWhat does the t method do in PyTorch?\n"
   ]
  },
  {
   "cell_type": "markdown",
   "id": "cf4f9164",
   "metadata": {},
   "source": [
    "torch.t(input) → Tensor"
   ]
  },
  {
   "cell_type": "markdown",
   "id": "96df2c95",
   "metadata": {},
   "source": [
    "Expects input to be <= 2-D tensor and transposes dimensions 0 and 1.\n",
    "\n",
    "0-D and 1-D tensors are returned as is. When input is a 2-D tensor this is equivalent to transpose(input, 0, 1)."
   ]
  },
  {
   "cell_type": "markdown",
   "id": "4382bc53",
   "metadata": {},
   "source": [
    "Parameters\n",
    "\n",
    "input (Tensor) – the input tensor."
   ]
  },
  {
   "cell_type": "code",
   "execution_count": null,
   "id": "666b8624",
   "metadata": {},
   "outputs": [],
   "source": []
  },
  {
   "cell_type": "markdown",
   "id": "6950b15f",
   "metadata": {},
   "source": [
    "### 7.\tWhy is matrix multiplication written in plain Python very slow?\n"
   ]
  },
  {
   "cell_type": "markdown",
   "id": "0c178eb7",
   "metadata": {},
   "source": [
    "Matrix multiplications in NumPy are reasonably fast without the need for optimization. However, if every second counts, it is possible to significantly improve performance (even without a GPU).\n",
    "\n",
    "Below are a collection of small tricks that can help with large (~4000x4000) matrix multiplications. I have used them to reduce inference time in a deep neural network from 24 seconds to less than one second. In fact, in one case, my optimized code on a CPU turned out to run faster than Tensorflow using a GPU (1 second vs 7 seconds)."
   ]
  },
  {
   "cell_type": "code",
   "execution_count": null,
   "id": "92985d1c",
   "metadata": {},
   "outputs": [],
   "source": []
  },
  {
   "cell_type": "markdown",
   "id": "092ed0a0",
   "metadata": {},
   "source": [
    "### 8.\tIn matmul, why is ac==br?\n"
   ]
  },
  {
   "cell_type": "code",
   "execution_count": null,
   "id": "bad47505",
   "metadata": {},
   "outputs": [],
   "source": [
    "def matmul2(a,b):\n",
    "    ar,ac = a.shape\n",
    "    br,bc = b.shape\n",
    "    assert ac==br\n",
    "    c = torch.zeros(ar,bc)\n",
    "    for i in range(ar):\n",
    "        for j in range(bc):\n",
    "            c[i,j] = (a[i,:]*b[:,j]).sum()\n",
    "    return c"
   ]
  },
  {
   "cell_type": "markdown",
   "id": "de5c9e84",
   "metadata": {},
   "source": [
    "So we just parse each position of C, using two FOR loops and enter the respective result at that position. If i,j represent row and col position in C, this looks something like.."
   ]
  },
  {
   "cell_type": "markdown",
   "id": "72f73f45",
   "metadata": {},
   "source": [
    "### 9.\tIn Jupyter Notebook, how do you measure the time taken for a single cell to execute?\n"
   ]
  },
  {
   "cell_type": "markdown",
   "id": "d4c56c21",
   "metadata": {},
   "source": [
    "All you need to do now is put %%time at the top of the cell. %time measures how long it took something to run."
   ]
  },
  {
   "cell_type": "code",
   "execution_count": 13,
   "id": "bbd5a6b1",
   "metadata": {},
   "outputs": [
    {
     "data": {
      "text/plain": [
       "[3.4823679000000993,\n",
       " 3.4840424000003622,\n",
       " 3.631995200000347,\n",
       " 3.5678391000001284,\n",
       " 3.8011741999998776]"
      ]
     },
     "execution_count": 13,
     "metadata": {},
     "output_type": "execute_result"
    }
   ],
   "source": [
    "def f(x):\n",
    "\n",
    "  return x * x\n",
    "\n",
    "import timeit\n",
    "\n",
    "timeit.repeat(\"for x in range(100): f(x)\", \"from __main__ import f\", number=100000)"
   ]
  },
  {
   "cell_type": "code",
   "execution_count": null,
   "id": "7743226c",
   "metadata": {},
   "outputs": [],
   "source": []
  },
  {
   "cell_type": "markdown",
   "id": "4feaa923",
   "metadata": {},
   "source": [
    "### 10.\tWhat is elementwise arithmetic?\n"
   ]
  },
  {
   "cell_type": "markdown",
   "id": "4f3bfb91",
   "metadata": {},
   "source": [
    "In mathematics, the Hadamard product (also known as the element-wise product, entrywise product: ch. 5  or Schur product) is a binary operation that takes two matrices of the same dimensions and produces another matrix of the same dimension as the operands, where each element i, j is the product of elements i, j of the original two matrices. It is to be distinguished from the more common matrix product. It is attributed to, and named after, either French mathematician Jacques Hadamard or German mathematician Issai Schur.\n",
    "\n",
    "For two matrices A and B of the same dimension m × n, the Hadamard product {\\displaystyle A\\circ B}A\\circ B (or {\\displaystyle A\\odot B}{\\displaystyle A\\odot B}) is a matrix of the same dimension as the operands, with elements given by\n",
    "\n",
    "\n",
    "For matrices of different dimensions (m × n and p × q, where m ≠ p or n ≠ q), the Hadamard product is undefined."
   ]
  },
  {
   "cell_type": "code",
   "execution_count": null,
   "id": "7008235c",
   "metadata": {},
   "outputs": [],
   "source": []
  },
  {
   "cell_type": "markdown",
   "id": "bd82d6e8",
   "metadata": {},
   "source": [
    "### 11.\tWrite the PyTorch code to test whether every element of a is greater than the corresponding element of b.\n"
   ]
  },
  {
   "cell_type": "code",
   "execution_count": null,
   "id": "ddf88f14",
   "metadata": {},
   "outputs": [],
   "source": [
    "a = torch.randn(3, 2)\n",
    "b = torch.ones(3, 2)\n",
    "a\n",
    "torch.where(a > 0, a, b)\n",
    "a = torch.randn(2, 2, dtype=torch.double)\n",
    "a\n",
    "torch.where(a > 0, a, 0.)"
   ]
  },
  {
   "cell_type": "code",
   "execution_count": null,
   "id": "c820ce58",
   "metadata": {},
   "outputs": [],
   "source": []
  },
  {
   "cell_type": "markdown",
   "id": "63e3aa23",
   "metadata": {},
   "source": [
    "### 12.\tWhat is a rank-0 tensor? How do you convert it to a plain Python data type?\n"
   ]
  },
  {
   "cell_type": "markdown",
   "id": "d82165f9",
   "metadata": {},
   "source": [
    "A tensor with rank 0 is a zero-dimensional array. The element of a zero-dimensional array is a point. This is represented as a Scalar in Math and has magnitude."
   ]
  },
  {
   "cell_type": "code",
   "execution_count": null,
   "id": "8185a4f6",
   "metadata": {},
   "outputs": [],
   "source": [
    "import numpy as np\n",
    "def my_func(arg):\n",
    "  arg = tf.convert_to_tensor(arg, dtype=tf.float32)\n",
    "  return arg"
   ]
  },
  {
   "cell_type": "code",
   "execution_count": null,
   "id": "4b22f4eb",
   "metadata": {},
   "outputs": [],
   "source": [
    "# The following calls are equivalent.\n",
    "\n",
    "value_1 = my_func(tf.constant([[1.0, 2.0], [3.0, 4.0]]))\n",
    "print(value_1)\n",
    "\n",
    "\n",
    "\n",
    "value_2 = my_func([[1.0, 2.0], [3.0, 4.0]])\n",
    "print(value_2)\n",
    "\n",
    "\n",
    "\n",
    "value_3 = my_func(np.array([[1.0, 2.0], [3.0, 4.0]], dtype=np.float32))\n",
    "print(value_3)\n"
   ]
  },
  {
   "cell_type": "code",
   "execution_count": null,
   "id": "4f59de12",
   "metadata": {},
   "outputs": [],
   "source": []
  },
  {
   "cell_type": "markdown",
   "id": "aa2ea2e7",
   "metadata": {},
   "source": [
    "### 13.\tHow does elementwise arithmetic help us speed up matmul?\n"
   ]
  },
  {
   "cell_type": "markdown",
   "id": "a58fa63d",
   "metadata": {},
   "source": [
    "I have been playing around with numba and numexpr trying to speed up a simple element-wise matrix multiplication. I have not been able to get better results, they both are basically (speedwise) equivalent to numpys multiply function. Has anyone had any luck in this area? Am I using numba and numexpr wrong (I'm quite new to this) or is this altogether a bad approach to try and speed this up. Here is a reproducible code, thank you in advanced:"
   ]
  },
  {
   "cell_type": "code",
   "execution_count": null,
   "id": "846df0a4",
   "metadata": {},
   "outputs": [],
   "source": [
    "import numpy as np\n",
    "from numba import autojit\n",
    "import numexpr as ne\n",
    "\n",
    "a=np.random.rand(10,5000000)\n",
    "\n",
    "# numpy\n",
    "multiplication1 = np.multiply(a,a)\n",
    "\n",
    "# numba\n",
    "def multiplix(X,Y):\n",
    "    M = X.shape[0]\n",
    "    N = X.shape[1]\n",
    "    D = np.empty((M, N), dtype=np.float)\n",
    "    for i in range(M):\n",
    "        for j in range(N):\n",
    "            D[i,j] = X[i, j] * Y[i, j]\n",
    "    return D\n",
    "\n",
    "mul = autojit(multiplix)\n",
    "multiplication2 = mul(a,a)\n",
    "\n",
    "# numexpr\n",
    "def numexprmult(X,Y):\n",
    "    M = X.shape[0]\n",
    "    N = X.shape[1]\n",
    "    return ne.evaluate(\"X * Y\")\n",
    "\n",
    "multiplication3 = numexprmult(a,a) "
   ]
  },
  {
   "attachments": {
    "image.png": {
     "image/png": "[encoded data removed]"
    }
   },
   "cell_type": "markdown",
   "id": "c52d6595",
   "metadata": {},
   "source": [
    "* Why is speed important?\n",
    "\n",
    "Matrix multiplication forms the basis of neural networks. Most operations while training a neural network require some form of matrix multiplication. Hence doing it well and doing it fast is really important.\n",
    "![image.png](attachment:image.png)\n",
    "We will speed up our matrix multiplication by eliminating loops and replacing them with PyTorch functionalities. This will give us C speed (underneath PyTorch) instead of Python speed. Let’s see how that works."
   ]
  },
  {
   "cell_type": "code",
   "execution_count": null,
   "id": "08c44a17",
   "metadata": {},
   "outputs": [],
   "source": []
  },
  {
   "cell_type": "markdown",
   "id": "35a30499",
   "metadata": {},
   "source": [
    "### 14.\tWhat are the broadcasting rules?\n"
   ]
  },
  {
   "cell_type": "markdown",
   "id": "9b02a319",
   "metadata": {},
   "source": [
    "Broadcasting in NumPy follows a strict set of rules to determine the interaction between the two arrays:\n",
    "\n",
    "Rule 1: If the two arrays differ in their number of dimensions, the shape of the one with fewer dimensions is padded with ones on its leading (left) side.\n",
    "\n",
    "Rule 2: If the shape of the two arrays does not match in any dimension, the array with shape equal to 1 in that dimension is stretched to match the other shape.\n",
    "\n",
    "Rule 3: If in any dimension the sizes disagree and neither is equal to 1, an error is raised."
   ]
  },
  {
   "cell_type": "code",
   "execution_count": null,
   "id": "de113670",
   "metadata": {},
   "outputs": [],
   "source": []
  },
  {
   "cell_type": "markdown",
   "id": "e30e02bd",
   "metadata": {},
   "source": [
    "### 15.\tWhat is expand_as? Show an example of how it can be used to match the results of broadcasting.\n"
   ]
  },
  {
   "cell_type": "markdown",
   "id": "55535dc6",
   "metadata": {},
   "source": [
    "expand_as (other) → Tensor. Expand this tensor to the same size as other ."
   ]
  },
  {
   "cell_type": "code",
   "execution_count": null,
   "id": "30d59b22",
   "metadata": {},
   "outputs": [],
   "source": [
    "a = torch.rand(2, 3)\n",
    "b = torch.rand(4, 3)\n",
    "c = b.expand_as(a)\n",
    "print(c)\n",
    "\n",
    "a = torch.rand(2, 3)\n",
    "b = torch.rand(2, 4)\n",
    "c = b.expand_as(a)\n",
    "print(c)"
   ]
  }
 ],
 "metadata": {
  "kernelspec": {
   "display_name": "Python 3",
   "language": "python",
   "name": "python3"
  },
  "language_info": {
   "codemirror_mode": {
    "name": "ipython",
    "version": 3
   },
   "file_extension": ".py",
   "mimetype": "text/x-python",
   "name": "python",
   "nbconvert_exporter": "python",
   "pygments_lexer": "ipython3",
   "version": "3.8.8"
  }
 },
 "nbformat": 4,
 "nbformat_minor": 5
}
