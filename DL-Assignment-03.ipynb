{
 "cells": [
  {
   "cell_type": "markdown",
   "id": "133227e6",
   "metadata": {},
   "source": [
    "### 1.\tIs it OK to initialize all the weights to the same value as long as that value is selected randomly using He initialization?\n"
   ]
  },
  {
   "cell_type": "markdown",
   "id": "0f5a1439",
   "metadata": {},
   "source": [
    "It makes the hidden units symmetric and this problem is known as the symmetry problem. Hence to break this symmetry the weights connected to the same neuron should not be initialized to the same value. Never initialize all the weights to zero. Never initialize all the weights to the same value.\n",
    "\n",
    "Now imagine that you initialize all weights to the same value (e.g. zero or one). In this case, each hidden unit will get exactly the same signal. E.g. if all weights are initialized to 1, each unit gets signal equal to sum of inputs (and outputs sigmoid(sum(inputs)) )."
   ]
  },
  {
   "cell_type": "code",
   "execution_count": null,
   "id": "9eb600ff",
   "metadata": {},
   "outputs": [],
   "source": []
  },
  {
   "cell_type": "markdown",
   "id": "a12203b0",
   "metadata": {},
   "source": [
    "### 2.\tIs it OK to initialize the bias terms to 0?\n"
   ]
  },
  {
   "cell_type": "markdown",
   "id": "12ff007f",
   "metadata": {},
   "source": [
    "It is possible and common to initialize the biases to be zero, since the asymmetry breaking is provided by the small random numbers in the weights.\n",
    "\n",
    "Initializing all the weights with zeros leads the neurons to learn the same features during training. In fact, any constant initialization scheme will perform very poorly. Consider a neural network with two hidden units, and assume we initialize all the biases to 0 and the weights with some constant α.\n",
    "\n",
    "If you initialize all weights with zeros then every hidden unit will get zero independent of the input. So, when all the hidden neurons start with the zero weights, then all of them will follow the same gradient and for this reason \"it affects only the scale of the weight vector, not the direction\"."
   ]
  },
  {
   "cell_type": "code",
   "execution_count": null,
   "id": "ef346813",
   "metadata": {},
   "outputs": [],
   "source": []
  },
  {
   "cell_type": "markdown",
   "id": "64d79806",
   "metadata": {},
   "source": [
    "### 3.\tName three advantages of the SELU activation function over ReLU.\n"
   ]
  },
  {
   "cell_type": "markdown",
   "id": "c7d4363b",
   "metadata": {},
   "source": [
    "RELU is clearly converging much faster than SELU .Still, RELU seems to be doing a much better job than SELU for the default configuration. This behavior remains more or less the same after iterating through hyperparameters. \n",
    "The activation of the SiLU is computed by the sigmoid function multiplied by its input and it looks like a continuous and “undershooting” version of the linear rectifier unit (ReLU) (Hahnloser et al., 2000). The activation of the dSiLU looks like steeper and “overshooting” version of the sigmoid function.\n",
    "\n",
    "ReLU6 is a modification of the rectified linear unit where we limit the activation to a maximum size of . This is due to increased robustness when used with low-precision computation. Image Credit: PyTorch. Source: MobileNets: Efficient Convolutional Neural Networks for Mobile Vision Applications."
   ]
  },
  {
   "cell_type": "code",
   "execution_count": null,
   "id": "4001c488",
   "metadata": {},
   "outputs": [],
   "source": []
  },
  {
   "cell_type": "markdown",
   "id": "8fce9564",
   "metadata": {},
   "source": [
    "### 4.\tIn which cases would you want to use each of the following activation functions: SELU, leaky ReLU (and its variants), ReLU, tanh, logistic, and softmax?\n"
   ]
  },
  {
   "cell_type": "markdown",
   "id": "67c7162a",
   "metadata": {},
   "source": [
    "* SELU\n",
    "\n",
    "Scaled Exponential Linear Unit (SELU) SELU: A special case of normalization. Weight Initialization + Dropout. The Scaled Exponential Linear Unit (SELU) activation function is defined as: if x > 0: return scale * x. if x < 0: return scale * alpha * (exp(x) - 1). this activation functions that induce self-normalizing properties. The SELU activation function is given by. f ( x ) = λ x if x ≥ 0 f ( x ) = λ α ( exp ⁡ with α ≈ 1.6733 and λ ≈ 1.0507 .\n",
    "\n",
    "* leaky ReLU\n",
    "\n",
    "Leaky ReLU function is an improved version of the ReLU activation function. As for the ReLU activation function, the gradient is 0 for all the values of inputs that are less than zero, which would deactivate the neurons in that region and may cause dying ReLU problem.\n",
    "\n",
    "* ReLUs\n",
    "\n",
    "One reason you should consider when using ReLUs is, that they can produce dead neurons. That means that under certain circumstances your network can produce regions in which the network won't update, and the output is always 0.\n",
    "\n",
    "*  tanh\n",
    "\n",
    "The hyperbolic tangent activation function is also referred to simply as the Tanh (also “tanh” and “TanH“) function. It is very similar to the sigmoid activation function and even has the same S-shape. The function takes any real value as input and outputs values in the range -1 to 1.\n",
    "\n",
    "* logistic\n",
    "\n",
    "It is commonly used for models where we have to predict the probability as an output. Since probability of anything exists only between the range of 0 and 1, sigmoid is the right choice because of its range.\n",
    "\n",
    "* softmax\n",
    "\n",
    "The softmax function is used as the activation function in the output layer of neural network models that predict a multinomial probability distribution. That is, softmax is used as the activation function for multi-class classification problems where class membership is required on more than two class labels."
   ]
  },
  {
   "cell_type": "code",
   "execution_count": null,
   "id": "28317871",
   "metadata": {},
   "outputs": [],
   "source": []
  },
  {
   "cell_type": "markdown",
   "id": "bc085ad6",
   "metadata": {},
   "source": [
    "### 5.\tWhat may happen if you set the momentum hyperparameter too close to 1 (e.g., 0.99999) when using an SGD optimizer?\n"
   ]
  },
  {
   "attachments": {
    "image.png": {
     "image/png": "[encoded data removed]"
    }
   },
   "cell_type": "markdown",
   "id": "ea4a6d1c",
   "metadata": {},
   "source": [
    "![image.png](attachment:image.png)\n",
    "\n",
    "That sequence V is the one plotted yellow above. Beta (momentum hyperparameter)is another hyper-parameter which takes values from 0 to one. It is a good value and most often used in SGD with momentum. Intuitively, you can think of beta as follows. We’re approximately averaging over last 1 / (1- beta) points of sequence. Let’s see how the choice of beta affects our new sequence V.\n",
    "\n",
    "As you can see, with smaller numbers of beta(momentum hyperparameter), the new sequence turns out to be fluctuating a lot, because we’re averaging over smaller number of examples and therefore are ‘closer’ to the noisy data. With bigger values of beta(momentum hyperparameter), like beta=0.98, we get much smother curve, but it’s a little bit shifted to the right, because we average over larger number of example(around 50 for beta=0.98). Beta = 0.9 provides a good balance between these two extremes."
   ]
  },
  {
   "cell_type": "code",
   "execution_count": null,
   "id": "10fda272",
   "metadata": {},
   "outputs": [],
   "source": []
  },
  {
   "cell_type": "markdown",
   "id": "e631e635",
   "metadata": {},
   "source": [
    "### 6.\tName three ways you can produce a sparse model.\n"
   ]
  },
  {
   "cell_type": "markdown",
   "id": "0b28fcdf",
   "metadata": {},
   "source": [
    "Sparse modeling is a component in many state of the art signal processing\n",
    "and machine learning tasks.\n",
    "\n",
    "• image processing (denoising, inpainting, superresolution)\n",
    "\n",
    "• Object recognition\n",
    "\n",
    "• general supervised learning\n",
    "\n",
    "• Building graphs for large scale semi-supervised learning:"
   ]
  },
  {
   "cell_type": "markdown",
   "id": "a70ea07e",
   "metadata": {},
   "source": [
    "Given a\n",
    "d\n",
    "×\n",
    "n matrix\n",
    "X of\n",
    "n points in\n",
    "R\n",
    "d\n",
    ".\n",
    "\n",
    "• Want to factor\n",
    "X\n",
    "≈ W Z, where\n",
    "W is\n",
    "d\n",
    "×\n",
    "K, and\n",
    "Z is\n",
    "K\n",
    "×\n",
    "N.\n",
    "\n",
    "•\n",
    "W is a dictionary,\n",
    "Z are the coefficients.\n",
    "\n",
    "• We need to choose an appropriate notion of “close” and conditions\n",
    "on\n",
    "Z to force the decomposition to be parsimonious\n",
    "\n",
    "• If we restrict the size of K < min(d, N), and “close” is operator or\n",
    "Frobenious norm, we get PCA.\n",
    "\n",
    "• If we restrict Zij ∈ {0, 1}, and Pi Zij = 1 (i.e. Zj is really sparse!), we\n",
    "get K-means\n",
    "\n",
    "• Everything in between (including the endpoints): dictionary learning.\n",
    "E.g.\n",
    "arg min\n",
    "Z∈RK×n,W∈S(d−1)×K X\n",
    "n\n",
    "j=1\n",
    "||W zj − xj||2, ||zj||0 ≤ q,\n",
    "\n",
    "• or the Z coordinate convexification:\n",
    "arg min\n",
    "Z∈RK×n,W∈S(d−1)×K Xj=1 ||W zj − xj||2 + λ||zj||"
   ]
  },
  {
   "cell_type": "code",
   "execution_count": null,
   "id": "7e1bb329",
   "metadata": {},
   "outputs": [],
   "source": []
  },
  {
   "cell_type": "code",
   "execution_count": null,
   "id": "1929ec09",
   "metadata": {},
   "outputs": [],
   "source": []
  },
  {
   "cell_type": "markdown",
   "id": "6950b15f",
   "metadata": {},
   "source": [
    "### 7.\tDoes dropout slow down training? Does it slow down inference (i.e., making predictions on new instances)? What about MC Dropout?\n"
   ]
  },
  {
   "cell_type": "code",
   "execution_count": null,
   "id": "ab786a75",
   "metadata": {},
   "outputs": [],
   "source": []
  },
  {
   "cell_type": "markdown",
   "id": "c48407e5",
   "metadata": {},
   "source": [
    "Logically, by omitting at each iteration neurons with a dropout, those omitted on an iteration are not updated during the backpropagation. They do not exist. So the training phase is slowed down. Applying dropout to the input layer increased the training time per epoch by about 25 %, independent of the dropout rate. Dropout has been widely used in deep learning to prevent overfitting. \n",
    "\n",
    "\n",
    "In the original implementation of dropout, dropout does work in both training time and inference time. During training time, dropout randomly sets node values to zero. In the original implementation, we have “keep probability” \n",
    "p\n",
    "keep\n",
    ". So dropout randomly kills node values with “dropout probability” \n",
    "1\n",
    "−\n",
    "p\n",
    "keep\n",
    ". During inference time, dropout does not kill node values, but all the weights in the layer were multiplied by \n",
    "p\n",
    "keep\n",
    ". One of the major motivations of doing so is to make sure that the distribution of the values after affine transformation during inference time is close to that during training time. Equivalently, This multiplier could be placed on the input values rather than the weights.\n",
    "\n",
    "Concretely, say we have a vector \n",
    "x\n",
    "=\n",
    "{\n",
    "1\n",
    ",\n",
    "2\n",
    ",\n",
    "3\n",
    ",\n",
    "4\n",
    ",\n",
    "5\n",
    "}\n",
    " as the input to certain fully connected layer and \n",
    "p\n",
    "keep\n",
    "=\n",
    "0.8\n",
    ". During training time, \n",
    "x\n",
    " could be set to \n",
    "{\n",
    "1\n",
    ",\n",
    "0\n",
    ",\n",
    "3\n",
    ",\n",
    "4\n",
    ",\n",
    "5\n",
    "}\n",
    " due to dropout. During inference time, \n",
    "x\n",
    " would be set to \n",
    "{\n",
    "0.8\n",
    ",\n",
    "1.6\n",
    ",\n",
    "2.4\n",
    ",\n",
    "3.2\n",
    ",\n",
    "4.0\n",
    "}\n",
    " while the weights remain unchanged.\n",
    " \n",
    " Things are similar if you placed the multiplier to the output values rather than the input values or weights. However, in any of the implementations mentioned above, you have to make changes to the values in the neural network during both training time and inference time. This seems to be undesirable to TensorFlow. So TensorFlow has its own implementation of dropout which only does work during training time."
   ]
  },
  {
   "cell_type": "code",
   "execution_count": null,
   "id": "55ba8241",
   "metadata": {},
   "outputs": [],
   "source": []
  },
  {
   "cell_type": "markdown",
   "id": "092ed0a0",
   "metadata": {},
   "source": [
    "### 8.\tPractice training a deep neural network on the CIFAR10 image dataset:\n",
    "a.\tBuild a DNN with 20 hidden layers of 100 neurons each (that’s too many, but it’s the point of this exercise). Use He initialization and the ELU activation function.\n",
    "\n",
    "b.\tUsing Nadam optimization and early stopping, train the network on the CIFAR10 dataset. You can load it with keras.datasets.cifar10.load_data(). The dataset is composed of 60,000 32 × 32–pixel color images (50,000 for training, 10,000 for testing) with 10 classes, so you’ll need a softmax output layer with 10 neurons. Remember to search for the right learning rate each time you change the model’s architecture or hyperparameters.\n",
    "\n",
    "c.\tNow try adding Batch Normalization and compare the learning curves: Is it converging faster than before? Does it produce a better model? How does it affect training speed?\n",
    "\n",
    "d.\tTry replacing Batch Normalization with SELU, and make the necessary adjustements to ensure the network self-normalizes (i.e., standardize the input features, use LeCun normal initialization, make sure the DNN contains only a sequence of dense layers, etc.).\n",
    "\n",
    "e.\tTry regularizing the model with alpha dropout. Then, without retraining your model, see if you can achieve better accuracy using MC Dropout."
   ]
  },
  {
   "cell_type": "code",
   "execution_count": null,
   "id": "66cd239f",
   "metadata": {},
   "outputs": [],
   "source": [
    "import tensorflow as tf\n",
    "import matplotlib.pyplot as plt\n",
    "from tensorflow.keras.datasets import cifar10 "
   ]
  },
  {
   "cell_type": "code",
   "execution_count": null,
   "id": "00f85441",
   "metadata": {},
   "outputs": [],
   "source": [
    "# setting class names\n",
    "class_names=[‘airplane’,’automobile’,’bird’,’cat’,’deer’,’dog’,’frog’,’horse’,’ship’,’truck’]\n",
    "x_train=x_train/255.0\n",
    "x_train.shape\n",
    "x_test=x_test/255.0\n",
    "x_test.shape"
   ]
  },
  {
   "cell_type": "code",
   "execution_count": null,
   "id": "e2c301e1",
   "metadata": {},
   "outputs": [],
   "source": [
    "cifar10_model=tf.keras.models.Sequential()\n",
    "# First Layer\n",
    "cifar10_model.add(tf.keras.layers.Conv2D(filters=32,kernel_size=3, padding=”same”, activation=”relu”, input_shape=[32,32,3]))"
   ]
  },
  {
   "cell_type": "code",
   "execution_count": null,
   "id": "2a9b8757",
   "metadata": {},
   "outputs": [],
   "source": [
    "#MaxPoolingLayer\n",
    "cifar10_model.add(tf.keras.layers.MaxPool2D(pool_size=2,strides=2, padding=’valid’))"
   ]
  },
  {
   "cell_type": "code",
   "execution_count": null,
   "id": "ea9a4b33",
   "metadata": {},
   "outputs": [],
   "source": [
    "# Flattening Layer\n",
    "cifar10_model.add(tf.keras.layers.Flatten())"
   ]
  },
  {
   "cell_type": "code",
   "execution_count": null,
   "id": "379a31e5",
   "metadata": {},
   "outputs": [],
   "source": [
    "# Droput Layer\n",
    "cifar10_model.add(Dropout(0.2))\n",
    "# Adding the first fully connected layer\n",
    "cifar10_model.add(tf.keras.layers.Dense(units= 128,activation='relu’))"
   ]
  },
  {
   "cell_type": "code",
   "execution_count": null,
   "id": "1d847968",
   "metadata": {},
   "outputs": [],
   "source": []
  }
 ],
 "metadata": {
  "kernelspec": {
   "display_name": "Python 3",
   "language": "python",
   "name": "python3"
  },
  "language_info": {
   "codemirror_mode": {
    "name": "ipython",
    "version": 3
   },
   "file_extension": ".py",
   "mimetype": "text/x-python",
   "name": "python",
   "nbconvert_exporter": "python",
   "pygments_lexer": "ipython3",
   "version": "3.8.8"
  }
 },
 "nbformat": 4,
 "nbformat_minor": 5
}
